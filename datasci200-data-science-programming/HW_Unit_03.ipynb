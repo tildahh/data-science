{
 "cells": [
  {
   "cell_type": "markdown",
   "metadata": {},
   "source": [
    "## Week 3 Assignment -  DATASCI200 Introduction to Data Science Programming, UC Berkeley MIDS"
   ]
  },
  {
   "cell_type": "markdown",
   "metadata": {},
   "source": [
    "Write code in this Jupyter Notebook to solve the following problems. Please upload this **Notebook** with your solutions to your GitHub repository and gradescope.\n",
    "\n",
    "Assignment due date: 11:59PM PST the night before the Week 4 Live Session."
   ]
  },
  {
   "cell_type": "markdown",
   "metadata": {},
   "source": [
    "## Objectives:\n",
    "\n",
    "- More practice with while loops, if statements and gathering user inputs\n",
    "- Demonstrate use of Python data structures such as lists, tuples, and dictionaries\n",
    "- Understand how to add items to these data structures and print the contents of each to the user"
   ]
  },
  {
   "cell_type": "markdown",
   "metadata": {},
   "source": [
    "## Grading Rubric\n",
    "\n",
    "General grading rubric guidelines / philosophy:\n",
    "\n",
    "- The total possible points will be shown for each question\n",
    "- Please read each question carefully to understand the requirements\n",
    "- Points for each question are rewarded based on how well your code fulfills those requirements\n",
    "- All of the problems have an example given to help show what is needed and how to format the answer\n",
    "\n",
    "More on grading:\n",
    "- If the question is blank / not attempted, no points will be given\n",
    "- Most points are given for code that runs (does not crash) and fulfills the requirements"
   ]
  },
  {
   "cell_type": "markdown",
   "metadata": {
    "collapsed": true
   },
   "source": [
    "### 3-1. Pig Latin Translator (25 points)\n",
    "\n",
    "Write code that translates a name into (simplified) Pig Latin. (Please do not make this a 'real' Pig Latin translator.)  Have your script ask the user for his or her name, which can comprise first, middle, and/or last parts. For each name part, move the first letter to the end of the part and append the letters \"ay\". Make sure that only the first letter of each word in your output is capitalized. You can use the ```split()``` method on the string to create a list of the name parts. Be sure that your script can handle one, two or three name parts separated by spaces. This will likely involve a loop.\n",
    "\n",
    "Your script should re-create the following example exactly:\n",
    "\n",
    "```\n",
    "Enter your name: Paul Laskowski\n",
    "\n",
    "Aulpay Askowskilay\n",
    "```"
   ]
  },
  {
   "cell_type": "code",
   "execution_count": null,
   "metadata": {
    "collapsed": true
   },
   "outputs": [
    {
     "name": "stdout",
     "output_type": "stream",
     "text": [
      "Paul Laskowski\n",
      "<class 'str'>\n",
      "['Paul', 'Laskowski']\n",
      "<class 'list'>\n",
      "Aulpay Askowskilay\n"
     ]
    }
   ],
   "source": [
    "### Q3-1 Grading Tag: Please put your entire solution in this cell. Don't edit this line.\n",
    "\n",
    "name = str(input(\"Enter your name:\"))\n",
    "\n",
    "# split name by ' '\n",
    "split_name = name.split()\n",
    "\n",
    "name_parts = []\n",
    "for part in split_name: \n",
    "    part = part.lower()\n",
    "    name_whole = part[1:] + part[0] + \"ay\"\n",
    "    name_whole = name_whole.capitalize()\n",
    "    name_parts.append(name_whole)\n",
    "\n",
    "name_transformed = \" \".join(name_parts)\n",
    "print(name_transformed)"
   ]
  },
  {
   "cell_type": "markdown",
   "metadata": {
    "collapsed": true
   },
   "source": [
    "### 3-2. Matrix Inverter (25 points)\n",
    "\n",
    "One place where the usage of tuples is convenient is in the representation of matrices.  The values in a 2x2 matrix are labeled as follows:\n",
    "$$\n",
    "\\begin{bmatrix}\n",
    "    a       & b  \\\\\n",
    "    c       & d\n",
    "\\end{bmatrix}\n",
    "$$\n",
    "\n",
    "Write code that asks the user for a text string including the four **numbers**, a, b, c, and d, separated by spaces.  You can use the `split()` method on the string to create a list of the four values in order.\n",
    "\n",
    "Create a tuple that represents each row, then create a tuple that contains those two tuples.  It should have the form `((a, b), (c, d))`.  **Print this representation.**\n",
    "\n",
    "The inverse of the matrix above is given by the formula:\n",
    "\n",
    "$$\n",
    "\\frac{1}{ad-bc} \\begin{bmatrix}\n",
    "    d       & -b  \\\\\n",
    "    -c       & a\n",
    "\\end{bmatrix}\n",
    "$$\n",
    "\n",
    "Recall that multiplying a matrix by a number effectively multiplies each element of the matrix by that number.\n",
    "\n",
    "Compute the inverse of the given matrix, again represented as nested tuples and **print this out**. \n",
    "\n",
    "Answer format:\n",
    "- The numbers below are fomatted to 4 decimal places but you do not need to do this \n",
    "- The outputted numbers do need to be floats\n",
    "\n",
    "```\n",
    "Please enter four numbers separated by spaces: 1 2 3 4\n",
    "\n",
    "matrix: ((1.0000, 2.0000), (3.0000, 4.0000))\n",
    "inverse: ((-2.0000, 1.0000), (1.5000, -0.5000))\n",
    "```"
   ]
  },
  {
   "cell_type": "code",
   "execution_count": 23,
   "metadata": {},
   "outputs": [
    {
     "name": "stdout",
     "output_type": "stream",
     "text": [
      "matrix: ((1.0000, 2.0000), (3.0000, 4.0000))\n",
      "inverse: ((-2.0000, 1.0000), (1.5000, -0.5000))\n"
     ]
    }
   ],
   "source": [
    "### Q3-2 Grading Tag: Please put your entire solution in this cell. Don't edit this line.\n",
    "numbers = input(\"Please enter four numbers separated by spaces: \")\n",
    "a_str, b_str, c_str, d_str = numbers.split()\n",
    "\n",
    "a, b, c, d = float(a_str), float(b_str), float(c_str), float(d_str)\n",
    "matrix = ((a, b), (c, d))\n",
    "\n",
    "print(f\"matrix: (({a:.4f}, {b:.4f}), ({c:.4f}, {d:.4f}))\")\n",
    "\n",
    "det = a * d - b * c\n",
    "\n",
    "inv_11 = d / det\n",
    "inv_12 = -b / det\n",
    "inv_21 = -c / det\n",
    "inv_22 = a / det\n",
    "\n",
    "inverse_matrix = ((inv_11, inv_12), (inv_21, inv_22))\n",
    "print(f\"inverse: (({inv_11:.4f}, {inv_12:.4f}), ({inv_21:.4f}, {inv_22:.4f}))\")"
   ]
  },
  {
   "cell_type": "markdown",
   "metadata": {},
   "source": [
    "### 3-3. Fibonacci (25 points)\n",
    "\n",
    "The Fibonacci numbers begin with 1, 1.  After the first two numbers, each number is the sum of the previous two. 1 + 1 = 2, so 2 is the third number. Then 1 + 2 = 3, so 3 is the next one, and so on. Write a script that prompts the user for an integer number, then prints all the Fibonacci numbers that are less than or equal to the input, in order.\n",
    "\n",
    "Example:\n",
    "```\n",
    "Enter a number: 15\n",
    "\n",
    "1 1 2 3 5 8 13\n",
    "```"
   ]
  },
  {
   "cell_type": "code",
   "execution_count": 26,
   "metadata": {
    "collapsed": true
   },
   "outputs": [
    {
     "name": "stdout",
     "output_type": "stream",
     "text": [
      "1 1 2 3 5 8 13 \n"
     ]
    }
   ],
   "source": [
    "### Q3-3 Grading Tag: Please put your entire solution in this cell. Don't edit this line.\n",
    "\n",
    "number = int(input(\"Enter a number\"))\n",
    "fib1, fib2 = 1, 1\n",
    "\n",
    "# Print the Fibonacci numbers less than or equal to number\n",
    "if fib1 <= number:\n",
    "    print(fib1, end=\" \")\n",
    "\n",
    "# Print fib2 if different from fib1 (for example, if number >= 1, this covers second 1 in the sequence)\n",
    "if fib2 <= number:\n",
    "    print(fib2, end=\" \")\n",
    "\n",
    "# the rest of the fib > number\n",
    "while True:\n",
    "    fib_next = fib1 + fib2\n",
    "    if fib_next > number:\n",
    "        break\n",
    "    print(fib_next, end=\" \")\n",
    "    fib1, fib2 = fib2, fib_next\n",
    "\n",
    "print()"
   ]
  },
  {
   "cell_type": "markdown",
   "metadata": {},
   "source": [
    "### 3-4. Pascal's Triangle (25 points)\n",
    "\n",
    "Pascal's triangle is a triangle of numbers that is computed as follows. The first row contains a 1.  Each row after that begins and ends with a 1, and every other number is the sum of the two numbers above it. The first six rows of Pascal's triangle are shown below.\n",
    "```\n",
    "      1\n",
    "     1 1\n",
    "    1 2 1\n",
    "  1  3 3  1\n",
    " 1 4  6  4 1\n",
    "1 5 10 10 5 1\n",
    "```\n",
    "Write a script to compute and print the *n*th row of Pascal's triangle. Do not spend time trying to print the entire triangle in the format above (it is for illustrative purposes only).  The input will be the row number as an integer starting with row 1 as the first row.\n",
    "\n",
    "** Hint: Think about the type of objects you need to solve the problem. What are you iterating over? It may help to calculate a couple of rows by hand and think about the process you take. **\n",
    "\n",
    "Example:\n",
    "```\n",
    "Enter a row number: 5\n",
    "\n",
    "1 4 6 4 1\n",
    "```\n"
   ]
  },
  {
   "cell_type": "code",
   "execution_count": 28,
   "metadata": {
    "collapsed": true
   },
   "outputs": [
    {
     "name": "stdout",
     "output_type": "stream",
     "text": [
      "1 4 6 4 1\n"
     ]
    }
   ],
   "source": [
    "### Q3-4 Grading Tag: Please put your entire solution in this cell. Don't edit this line.\n",
    "\n",
    "number = int(input(\"Enter a row number:\"))\n",
    "\n",
    "# start with first row \n",
    "row = [1]\n",
    "\n",
    "for _ in range(number - 1):\n",
    "    new_row = [1]\n",
    "    # Each interior element is the sum of two adjacent elements in the previous row\n",
    "    for i in range(len(row) - 1):\n",
    "        new_row.append(row[i] + row[i + 1])\n",
    "    new_row.append(1)\n",
    "    row = new_row\n",
    "\n",
    "print(\" \".join(str(x) for x in row))"
   ]
  }
 ],
 "metadata": {
  "anaconda-cloud": {},
  "kernelspec": {
   "display_name": "datasci200",
   "language": "python",
   "name": "python3"
  },
  "language_info": {
   "codemirror_mode": {
    "name": "ipython",
    "version": 3
   },
   "file_extension": ".py",
   "mimetype": "text/x-python",
   "name": "python",
   "nbconvert_exporter": "python",
   "pygments_lexer": "ipython3",
   "version": "3.11.11"
  }
 },
 "nbformat": 4,
 "nbformat_minor": 1
}
